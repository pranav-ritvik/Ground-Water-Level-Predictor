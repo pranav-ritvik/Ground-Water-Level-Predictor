{
 "cells": [
  {
   "cell_type": "code",
   "execution_count": 1,
   "metadata": {},
   "outputs": [
    {
     "name": "stdout",
     "output_type": "stream",
     "text": [
      "The predicted groundwater level is: 4.80422164497\n"
     ]
    }
   ],
   "source": [
    "import pandas as pd\n",
    "from sklearn.model_selection import train_test_split\n",
    "from sklearn.preprocessing import OneHotEncoder, StandardScaler\n",
    "from sklearn.compose import ColumnTransformer\n",
    "from sklearn.pipeline import Pipeline\n",
    "from sklearn.ensemble import RandomForestRegressor\n",
    "import joblib\n",
    "\n",
    "# Load the datasets\n",
    "rainfall_df = pd.read_csv('reshaped_rainfall_levels.csv')\n",
    "groundwater_df = pd.read_csv('reshaped_groundwater_levels.csv')\n",
    "\n",
    "# Merge the datasets on 'year_month' and 'location'\n",
    "merged_df = pd.merge(rainfall_df, groundwater_df, on=['year_month', 'location'])\n",
    "\n",
    "# Convert 'year_month' to a datetime object and extract year and month\n",
    "merged_df['year_month'] = pd.to_datetime(merged_df['year_month'])\n",
    "merged_df['year'] = merged_df['year_month'].dt.year\n",
    "merged_df['month'] = merged_df['year_month'].dt.month\n",
    "\n",
    "# Drop the original 'year_month' column if not needed\n",
    "merged_df = merged_df.drop(columns=['year_month'])\n",
    "\n",
    "# Features and target\n",
    "X = merged_df[['location', 'rainfall_level', 'year', 'month']]\n",
    "y = merged_df['groundwater_level']\n",
    "\n",
    "# Define the encoder and model pipeline\n",
    "encoder = ColumnTransformer(\n",
    "    transformers=[\n",
    "        ('cat', OneHotEncoder(handle_unknown='ignore', sparse_output=False), ['location']),\n",
    "        ('num', StandardScaler(), ['rainfall_level', 'year', 'month'])\n",
    "    ]\n",
    ")\n",
    "\n",
    "model = Pipeline(steps=[\n",
    "    ('encoder', encoder),\n",
    "    ('regressor', RandomForestRegressor(n_estimators=100, random_state=42))\n",
    "])\n",
    "\n",
    "# Train-test split\n",
    "X_train, X_test, y_train, y_test = train_test_split(X, y, test_size=0.2, random_state=42)\n",
    "\n",
    "# Train the model\n",
    "model.fit(X_train, y_train)\n",
    "\n",
    "# Function to preprocess and predict groundwater level based on input\n",
    "def predict_groundwater_level(year_month, location, rainfall_level):\n",
    "    # Convert 'year_month' to datetime and extract year and month\n",
    "    date = pd.to_datetime(year_month)\n",
    "    year = date.year\n",
    "    month = date.month\n",
    "    \n",
    "    # Create a DataFrame with the input data\n",
    "    input_df = pd.DataFrame({\n",
    "        'location': [location],\n",
    "        'rainfall_level': [rainfall_level],\n",
    "        'year': [year],\n",
    "        'month': [month]\n",
    "    })\n",
    "    \n",
    "    # Make the prediction\n",
    "    prediction = model.predict(input_df)\n",
    "    \n",
    "    return prediction[0]\n",
    "\n",
    "# Take user input\n",
    "year_month = input(\"Enter the year and month (yyyy-mm): \")\n",
    "location = input(\"Enter the location: \")\n",
    "rainfall_level = float(input(\"Enter the rainfall level (can be a decimal): \"))\n",
    "\n",
    "# Predict groundwater level\n",
    "predicted_groundwater_level = predict_groundwater_level(year_month, location, rainfall_level)\n",
    "\n",
    "# Display the result\n",
    "print(f\"The predicted groundwater level is: {predicted_groundwater_level}\")"
   ]
  }
 ],
 "metadata": {
  "kernelspec": {
   "display_name": "Python 3",
   "language": "python",
   "name": "python3"
  },
  "language_info": {
   "codemirror_mode": {
    "name": "ipython",
    "version": 3
   },
   "file_extension": ".py",
   "mimetype": "text/x-python",
   "name": "python",
   "nbconvert_exporter": "python",
   "pygments_lexer": "ipython3",
   "version": "3.9.6"
  }
 },
 "nbformat": 4,
 "nbformat_minor": 2
}
